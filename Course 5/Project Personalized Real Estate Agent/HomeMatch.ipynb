{
 "cells": [
  {
   "cell_type": "markdown",
   "id": "a108af04",
   "metadata": {},
   "source": [
    "This is a starter notebook for the project, you'll have to import the libraries you'll need, you can find a list of the ones available in this workspace in the requirements.txt file in this workspace. "
   ]
  },
  {
   "cell_type": "markdown",
   "id": "4d65bb92",
   "metadata": {},
   "source": [
    "### Step 1: Setting Up the Python Application"
   ]
  },
  {
   "cell_type": "code",
   "execution_count": 1,
   "id": "61559d5c",
   "metadata": {},
   "outputs": [],
   "source": [
    "# %pip install -U --quiet lancedb pandas pydantic"
   ]
  },
  {
   "cell_type": "code",
   "execution_count": 54,
   "id": "6554fd4c",
   "metadata": {},
   "outputs": [],
   "source": [
    "import os\n",
    "import openai\n",
    "from langchain.chat_models import ChatOpenAI\n",
    "from langchain.llms import OpenAI\n",
    "from langchain.prompts import PromptTemplate\n",
    "from langchain.schema import AIMessage, HumanMessage, SystemMessage\n",
    "from langchain.memory import ConversationSummaryMemory, ConversationBufferMemory, CombinedMemory, ChatMessageHistory\n",
    "from langchain.chains import ConversationChain\n",
    "from typing import Any, Dict, Optional, Tuple\n",
    "import json\n",
    "\n",
    "# Importing the necessary library for OpenAI API\n",
    "openai.api_base = \"https://openai.vocareum.com/v1\"\n",
    "\n",
    "# Define your OpenAI API key \n",
    "api_key = \"voc-929917910126677362447467214b40b11f71.47286702\" #\"YOUR API KEY\"\n",
    "openai.api_key = api_key\n",
    "\n",
    "os.environ[\"OPENAI_API_KEY\"] = api_key\n",
    "os.environ[\"OPENAI_API_BASE\"] = openai.api_base"
   ]
  },
  {
   "cell_type": "markdown",
   "id": "fbc1385f",
   "metadata": {},
   "source": [
    "### Step 2: Generating Real Estate Listings"
   ]
  },
  {
   "cell_type": "code",
   "execution_count": 3,
   "id": "cf4400bc",
   "metadata": {},
   "outputs": [
    {
     "name": "stdout",
     "output_type": "stream",
     "text": [
      "Generated Response: \n",
      "[{'neighborhood': 'Willow Creek', 'price': '$900,000', 'bedrooms': '4', 'bathrooms': '3', 'house_size': '2,500 sqft', 'description': \"Discover tranquility in this modern 4-bedroom, 3-bathroom home located in the picturesque Willow Creek neighborhood. The sleek design and high-end finishes create a luxurious space for both relaxation and entertainment. Enjoy the chef's kitchen with top-of-the-line appliances and unwind in the spacious master suite. The lush backyard offers a peaceful retreat with a sparkling pool and outdoor dining area, perfect for gatherings with friends and family.\", 'neighborhood_description': 'Willow Creek is known for its scenic views, tree-lined streets, and family-friendly atmosphere. Residents can explore the nearby hiking trails, parks, and upscale shopping destinations. With top-rated schools and community events, Willow Creek is a sought-after neighborhood for those seeking a blend of nature and convenience.'}, {'neighborhood': 'Sunset Hills', 'price': '$750,000', 'bedrooms': '3', 'bathrooms': '2', 'house_size': '1,800 sqft', 'description': 'Indulge in the charm of Sunset Hills with this beautifully renovated 3-bedroom, 2-bathroom home. The open floor plan and natural light create a warm and inviting atmosphere. The gourmet kitchen features quartz countertops and stainless steel appliances, perfect for culinary enthusiasts. Relax in the serene backyard oasis with a covered patio and mature landscaping. Experience modern living in the heart of Sunset Hills.', 'neighborhood_description': 'Sunset Hills offers a relaxed and friendly environment with local cafes, boutique shops, and community events. Explore the scenic Sunset Park or take a short drive to the beach for a day of sun and surf. With a strong sense of community and convenient access to amenities, Sunset Hills is the ideal place to call home.'}, {'neighborhood': 'Pinecrest Estates', 'price': '$1,200,000', 'bedrooms': '5', 'bathrooms': '4', 'house_size': '3,200 sqft', 'description': \"Luxury awaits in this magnificent 5-bedroom, 4-bathroom estate in Pinecrest Estates. The grand foyer leads to a spacious living area with high ceilings and custom details throughout. The gourmet kitchen is a chef's dream with top-of-the-line appliances and a large island for entertaining. Retreat to the lavish master suite with a private balcony overlooking the manicured grounds. Entertain guests in style in the backyard paradise with a pool, spa, and outdoor kitchen.\", 'neighborhood_description': 'Pinecrest Estates is an exclusive enclave known for its upscale homes, private gated communities, and proximity to golf courses and country clubs. Residents enjoy a serene atmosphere with lush greenery and stunning views. With easy access to luxury amenities and prestigious schools, Pinecrest Estates offers a luxurious lifestyle for discerning homeowners.'}, {'neighborhood': 'Maple Grove', 'price': '$600,000', 'bedrooms': '3', 'bathrooms': '2.5', 'house_size': '2,100 sqft', 'description': 'Welcome to this charming 3-bedroom, 2.5-bathroom home in the desirable Maple Grove neighborhood. The cozy living room features a fireplace and hardwood floors, creating a warm and inviting ambiance. The updated kitchen boasts granite countertops and stainless steel appliances, perfect for home-cooked meals. Relax in the private backyard retreat with a covered patio and mature trees. Experience the comforts of home in Maple Grove.', 'neighborhood_description': 'Maple Grove is a family-friendly community with tree-lined streets, parks, and local eateries. Residents can enjoy a close-knit neighborhood feel with community events and activities for all ages. Conveniently located near schools and shopping centers, Maple Grove offers a peaceful suburban lifestyle with easy access to urban amenities.'}, {'neighborhood': 'Ocean View Heights', 'price': '$1,500,000', 'bedrooms': '6', 'bathrooms': '5', 'house_size': '4,000 sqft', 'description': 'Experience luxury living in this stunning 6-bedroom, 5-bathroom home perched in the exclusive Ocean View Heights neighborhood. The grand entrance with a sweeping staircase sets the tone for elegance and sophistication. The expansive living spaces feature high ceilings, custom millwork, and designer finishes. Entertain in the gourmet kitchen or relax in the private master suite with a spa-like bath. Enjoy panoramic ocean views from the rooftop terrace and unwind in the resort-style backyard with a pool and spa.', 'neighborhood_description': 'Ocean View Heights is renowned for its prestigious homes, breathtaking ocean views, and upscale amenities. Residents can enjoy private beach access, coastal trails, and proximity to upscale dining and shopping. With a sense of exclusivity and luxury, Ocean View Heights offers a lavish coastal lifestyle for those seeking the best in seaside living.'}, {'neighborhood': 'Riverfront Landing', 'price': '$850,000', 'bedrooms': '4', 'bathrooms': '3.5', 'house_size': '2,800 sqft', 'description': \"Live the waterfront lifestyle in this exquisite 4-bedroom, 3.5-bathroom home in Riverfront Landing. The open floor plan and large windows capture stunning water views and natural light. The gourmet kitchen is a chef's delight with high-end appliances and a spacious island for entertaining. Retreat to the luxurious master suite with a private balcony overlooking the river. Entertain guests in the backyard oasis with a dock, outdoor kitchen, and fire pit.\", 'neighborhood_description': 'Riverfront Landing offers a unique waterfront living experience with riverfront parks, marinas, and water activities. Residents can enjoy boating, fishing, and waterside dining just steps from their front door. With a vibrant waterfront community and access to urban conveniences, Riverfront Landing is a sought-after destination for those who love the water.'}, {'neighborhood': 'Mountain View Estates', 'price': '$1,250,000', 'bedrooms': '5', 'bathrooms': '4.5', 'house_size': '3,500 sqft', 'description': \"Escape to the beauty of Mountain View Estates in this luxurious 5-bedroom, 4.5-bathroom home. The grand foyer welcomes you into the elegant living spaces with high ceilings and panoramic mountain views. The chef's kitchen features custom cabinetry, premium appliances, and a large island for culinary creations. Unwind in the expansive master suite or entertain in the outdoor paradise with a pool, spa, and built-in barbecue area.\", 'neighborhood_description': 'Mountain View Estates offers a serene mountain setting with hiking trails, nature reserves, and picturesque vistas. Residents can enjoy a peaceful lifestyle with access to outdoor activities and community events. With upscale homes and spacious lots, Mountain View Estates provides a tranquil escape from the hustle and bustle of city life.'}, {'neighborhood': 'Harbor Pointe', 'price': '$700,000', 'bedrooms': '3', 'bathrooms': '2.5', 'house_size': '2,000 sqft', 'description': \"Embrace coastal living in this 3-bedroom, 2.5-bathroom home located in the desirable Harbor Pointe neighborhood. The bright and airy living spaces feature vaulted ceilings and designer finishes. The gourmet kitchen is a chef's dream with quartz countertops and custom cabinetry. Relax in the private backyard with a paved patio and lush landscaping. Enjoy the coastal lifestyle in Harbor Pointe.\", 'neighborhood_description': 'Harbor Pointe offers waterfront living with marinas, yacht clubs, and scenic harbor views. Residents can explore nearby beaches, waterfront parks, and seaside dining options. With a relaxed coastal vibe and easy access to boating and water sports, Harbor Pointe is a paradise for those who love the sea.'}, {'neighborhood': 'Golden Hills', 'price': '$950,000', 'bedrooms': '4', 'bathrooms': '3', 'house_size': '2,300 sqft', 'description': 'Discover the charm of Golden Hills in this beautifully appointed 4-bedroom, 3-bathroom home. The open concept floor plan and high ceilings create a spacious and inviting ambiance. The gourmet kitchen features granite countertops and stainless steel appliances, perfect for hosting dinner parties. Retreat to the master suite with a spa-like bath or unwind in the lush backyard with a covered patio and mountain views.', 'neighborhood_description': 'Golden Hills is a hidden gem with scenic views, rolling hills, and equestrian trails. Residents can explore local vineyards, parks, and boutique shops in this tranquil setting. With a strong sense of community and easy access to outdoor recreation, Golden Hills offers a peaceful escape from city life while still being conveniently located.'}, {'neighborhood': 'Lakeside Retreat', 'price': '$800,000', 'bedrooms': '3', 'bathrooms': '2.5', 'house_size': '2,100 sqft', 'description': 'Experience lakefront living in this 3-bedroom, 2.5-bathroom home in the serene Lakeside Retreat neighborhood. The light-filled living spaces and stunning lake views create a tranquil escape. The updated kitchen features granite countertops and stainless steel appliances, ideal for entertaining. Relax in the master suite with a private balcony overlooking the water or unwind on the spacious deck by the lake.', 'neighborhood_description': 'Lakeside Retreat offers a peaceful setting with private lake access, walking paths, and community amenities. Residents can enjoy boating, fishing, and lakeside picnics surrounded by natural beauty. With a welcoming atmosphere and close-knit community, Lakeside Retreat is the perfect place to enjoy lakefront living.'}]\n"
     ]
    }
   ],
   "source": [
    "# Function to call the OpenAI GPT-3.5 API\n",
    "def realstate_agent(user_prompt):\n",
    "    try:\n",
    "        # Calling the OpenAI API with a system message and our prompt in the user message content\n",
    "        # Use openai.ChatCompletion.create for openai < 1.0\n",
    "        # openai.chat.completions.create for openai > 1.0\n",
    "        response = openai.ChatCompletion.create(\n",
    "          model=\"gpt-3.5-turbo\",\n",
    "          messages=[\n",
    "          {\n",
    "            \"role\": \"system\",\n",
    "            \"content\": \"\"\"You are a real state agent. Your goal is to assist the user by generating a given number of \n",
    "            real estate listings provided by the user. The listing should include the following information (Neighborhood, \n",
    "            Price in USD currency, number of bedrooms, number of bathrooms, hous size in sqft, description, and neighborhood \n",
    "            description.)\n",
    "            \n",
    "            \n",
    "            As an example, if the user asked for one listing, below is an output format that can be returned:\n",
    "                Neighborhood: Green Oaks\n",
    "                Price: $800,000\n",
    "                Bedrooms: 3\n",
    "                Bathrooms: 2\n",
    "                House Size: 2,000 sqft\n",
    "                Description: Welcome to this eco-friendly oasis nestled in the heart of Green Oaks. This charming 3-bedroom, 2-bathroom home boasts energy-efficient features such as solar panels and a well-insulated structure. Natural light floods the living spaces, highlighting the beautiful hardwood floors and eco-conscious finishes. The open-concept kitchen and dining area lead to a spacious backyard with a vegetable garden, perfect for the eco-conscious family. Embrace sustainable living without compromising on style in this Green Oaks gem.\n",
    "                Neighborhood Description: Green Oaks is a close-knit, environmentally-conscious community with access to organic grocery stores, community gardens, and bike paths. Take a stroll through the nearby Green Oaks Park or grab a cup of coffee at the cozy Green Bean Cafe. With easy access to public transportation and bike lanes, commuting is a breeze.\n",
    "              \n",
    "              \n",
    "            If the user specified the output to be in a specific format, for instance a list of dictionaries, \n",
    "            return it as following with all of the keys. Don't forget to generate as much as requested as well. \n",
    "            If no instructions were given, return them as previously mentioned.\n",
    "                [\n",
    "                   {\n",
    "                        \"neighborhood\": \"Green Oaks\"\n",
    "                        \"price\": \"$800,000\"\n",
    "                        \"bedrooms\": \"3\"\n",
    "                        \"bathrooms\": \"2\"\n",
    "                        \"house_size\": \"2,000 sqft\"\n",
    "                        \"description\": \"Welcome to this eco-friendly oasis nestled in the heart of Green Oaks. This charming 3-bedroom, 2-bathroom home boasts energy-efficient features such as solar panels and a well-insulated structure. Natural light floods the living spaces, highlighting the beautiful hardwood floors and eco-conscious finishes. The open-concept kitchen and dining area lead to a spacious backyard with a vegetable garden, perfect for the eco-conscious family. Embrace sustainable living without compromising on style in this Green Oaks gem.\"\n",
    "                        \"neighborhood_description\": \"Green Oaks is a close-knit, environmentally-conscious community with access to organic grocery stores, community gardens, and bike paths. Take a stroll through the nearby Green Oaks Park or grab a cup of coffee at the cozy Green Bean Cafe. With easy access to public transportation and bike lanes, commuting is a breeze.\"\n",
    "\n",
    "                   }\n",
    "                ]\n",
    "              \"\"\"\n",
    "          },\n",
    "          {\n",
    "            \"role\": \"user\",\n",
    "            \"content\": user_prompt\n",
    "          }\n",
    "          ],\n",
    "        temperature=1,\n",
    "        max_tokens=4096, #512, # we increased the max tokens to be able to generate 10 listings at once.\n",
    "        top_p=1,\n",
    "        frequency_penalty=0,\n",
    "        presence_penalty=0\n",
    "        )\n",
    "        # The response is a JSON object containing more information than the response. We want to return only the message content\n",
    "        return response.choices[0].message.content\n",
    "    except Exception as e:\n",
    "        return f\"An error occurred: {e}\"\n",
    "    \n",
    "user_prompt = f\"Generate 10 real state listing in a list of dictionary.\"\n",
    "\n",
    "# Running the wellness agent, this returns a string\n",
    "listing_str = realstate_agent(user_prompt)\n",
    "\n",
    "# convert to an object\n",
    "listing_list = json.loads(listing_str)\n",
    "\n",
    "# Printing the output. \n",
    "print(\"Generated Response: \")\n",
    "print(listing_list)"
   ]
  },
  {
   "cell_type": "code",
   "execution_count": 4,
   "id": "9249a445",
   "metadata": {},
   "outputs": [
    {
     "name": "stdout",
     "output_type": "stream",
     "text": [
      "{'neighborhood': 'Lakeside Retreat', 'price': '$800,000', 'bedrooms': '3', 'bathrooms': '2.5', 'house_size': '2,100 sqft', 'description': 'Experience lakefront living in this 3-bedroom, 2.5-bathroom home in the serene Lakeside Retreat neighborhood. The light-filled living spaces and stunning lake views create a tranquil escape. The updated kitchen features granite countertops and stainless steel appliances, ideal for entertaining. Relax in the master suite with a private balcony overlooking the water or unwind on the spacious deck by the lake.', 'neighborhood_description': 'Lakeside Retreat offers a peaceful setting with private lake access, walking paths, and community amenities. Residents can enjoy boating, fishing, and lakeside picnics surrounded by natural beauty. With a welcoming atmosphere and close-knit community, Lakeside Retreat is the perfect place to enjoy lakefront living.'}\n",
      "dict_keys(['neighborhood', 'price', 'bedrooms', 'bathrooms', 'house_size', 'description', 'neighborhood_description'])\n"
     ]
    }
   ],
   "source": [
    "# we have successfully generated 10 items and stored them in a list of dictionary, we can use it easly with the database.\n",
    "# this is useful also to have access to each listing separately \n",
    "print(listing_list[9])\n",
    "\n",
    "print(listing_list[9].keys())"
   ]
  },
  {
   "cell_type": "markdown",
   "id": "65a483bf",
   "metadata": {},
   "source": [
    "### Step 3: Storing Listings in a Vector Database"
   ]
  },
  {
   "cell_type": "markdown",
   "id": "3b64fd82",
   "metadata": {},
   "source": [
    "This step includes convert the LLM-generated listings into suitable embeddings that capture the semantic content of each listing, and store these embeddings in the vector database.\n",
    "\n",
    "We will use BERT for processing the generated text."
   ]
  },
  {
   "cell_type": "code",
   "execution_count": 5,
   "id": "7c16d60f",
   "metadata": {},
   "outputs": [
    {
     "name": "stderr",
     "output_type": "stream",
     "text": [
      "/opt/conda/lib/python3.10/site-packages/huggingface_hub/file_download.py:1132: FutureWarning: `resume_download` is deprecated and will be removed in version 1.0.0. Downloads always resume when possible. If you want to force a new download, use `force_download=True`.\n",
      "  warnings.warn(\n"
     ]
    }
   ],
   "source": [
    "from transformers import AutoTokenizer\n",
    "\n",
    "tokenizer = AutoTokenizer.from_pretrained(\"distilbert-base-uncased\")"
   ]
  },
  {
   "cell_type": "code",
   "execution_count": 6,
   "id": "ecb7c488",
   "metadata": {},
   "outputs": [],
   "source": [
    "def preprocess_text(text):\n",
    "    \"\"\"Preprocess the generated text by returning tokens.\"\"\"\n",
    "    return tokenizer(text, return_tensors=\"pt\", padding='max_length')['input_ids']\n",
    "\n",
    "def format_text(response):\n",
    "    \"\"\"Formats the response into a string. The response here is a dictionary.\"\"\"\n",
    "    return f\"\"\"Neighborhood: {response['neighborhood']}. \\nPrice: {response['price']}. \\nBedrooms: {response['bedrooms']}. \\nBathrooms: {response['bathrooms']}. \\nHouse Size: {response['house_size']}. \n",
    "    \\nDescription: {response['description']}\n",
    "    \\nNeighborhood {response['neighborhood_description']}\n",
    "    \"\"\""
   ]
  },
  {
   "cell_type": "code",
   "execution_count": 7,
   "id": "442f527d",
   "metadata": {},
   "outputs": [
    {
     "name": "stdout",
     "output_type": "stream",
     "text": [
      "Neighborhood: Lakeside Retreat. \n",
      "Price: $800,000. \n",
      "Bedrooms: 3. \n",
      "Bathrooms: 2.5. \n",
      "House Size: 2,100 sqft. \n",
      "    \n",
      "Description: Experience lakefront living in this 3-bedroom, 2.5-bathroom home in the serene Lakeside Retreat neighborhood. The light-filled living spaces and stunning lake views create a tranquil escape. The updated kitchen features granite countertops and stainless steel appliances, ideal for entertaining. Relax in the master suite with a private balcony overlooking the water or unwind on the spacious deck by the lake.\n",
      "    \n",
      "Neighborhood Lakeside Retreat offers a peaceful setting with private lake access, walking paths, and community amenities. Residents can enjoy boating, fishing, and lakeside picnics surrounded by natural beauty. With a welcoming atmosphere and close-knit community, Lakeside Retreat is the perfect place to enjoy lakefront living.\n",
      "    \n",
      "tensor([[  101,  5101,  1024, 28701,  7822,  1012,  3976,  1024,  1002,  5385,\n",
      "          1010,  2199,  1012, 18390,  1024,  1017,  1012, 28942,  1024,  1016,\n",
      "          1012,  1019,  1012,  2160,  2946,  1024,  1016,  1010,  2531,  5490,\n",
      "          6199,  1012,  6412,  1024,  3325,  2697, 12792,  2542,  1999,  2023,\n",
      "          1017,  1011,  5010,  1010,  1016,  1012,  1019,  1011,  5723,  2188,\n",
      "          1999,  1996, 25388, 28701,  7822,  5101,  1012,  1996,  2422,  1011,\n",
      "          3561,  2542,  7258,  1998, 14726,  2697,  5328,  3443,  1037, 25283,\n",
      "         26147,  4019,  1012,  1996,  7172,  3829,  2838,  9753,  4675, 25181,\n",
      "          1998, 18676,  3886, 22449,  1010,  7812,  2005, 14036,  1012,  9483,\n",
      "          1999,  1996,  3040,  7621,  2007,  1037,  2797, 11673, 12549,  1996,\n",
      "          2300,  2030,  4895, 11101,  2006,  1996, 22445,  5877,  2011,  1996,\n",
      "          2697,  1012,  5101, 28701,  7822,  4107,  1037,  9379,  4292,  2007,\n",
      "          2797,  2697,  3229,  1010,  3788, 10425,  1010,  1998,  2451, 19870,\n",
      "          1012,  3901,  2064,  5959, 23639,  1010,  5645,  1010,  1998, 28701,\n",
      "         12695,  2015,  5129,  2011,  3019,  5053,  1012,  2007,  1037, 18066,\n",
      "          7224,  1998,  2485,  1011, 22404,  2451,  1010, 28701,  7822,  2003,\n",
      "          1996,  3819,  2173,  2000,  5959,  2697, 12792,  2542,  1012,   102,\n",
      "             0,     0,     0,     0,     0,     0,     0,     0,     0,     0,\n",
      "             0,     0,     0,     0,     0,     0,     0,     0,     0,     0,\n",
      "             0,     0,     0,     0,     0,     0,     0,     0,     0,     0,\n",
      "             0,     0,     0,     0,     0,     0,     0,     0,     0,     0,\n",
      "             0,     0,     0,     0,     0,     0,     0,     0,     0,     0,\n",
      "             0,     0,     0,     0,     0,     0,     0,     0,     0,     0,\n",
      "             0,     0,     0,     0,     0,     0,     0,     0,     0,     0,\n",
      "             0,     0,     0,     0,     0,     0,     0,     0,     0,     0,\n",
      "             0,     0,     0,     0,     0,     0,     0,     0,     0,     0,\n",
      "             0,     0,     0,     0,     0,     0,     0,     0,     0,     0,\n",
      "             0,     0,     0,     0,     0,     0,     0,     0,     0,     0,\n",
      "             0,     0,     0,     0,     0,     0,     0,     0,     0,     0,\n",
      "             0,     0,     0,     0,     0,     0,     0,     0,     0,     0,\n",
      "             0,     0,     0,     0,     0,     0,     0,     0,     0,     0,\n",
      "             0,     0,     0,     0,     0,     0,     0,     0,     0,     0,\n",
      "             0,     0,     0,     0,     0,     0,     0,     0,     0,     0,\n",
      "             0,     0,     0,     0,     0,     0,     0,     0,     0,     0,\n",
      "             0,     0,     0,     0,     0,     0,     0,     0,     0,     0,\n",
      "             0,     0,     0,     0,     0,     0,     0,     0,     0,     0,\n",
      "             0,     0,     0,     0,     0,     0,     0,     0,     0,     0,\n",
      "             0,     0,     0,     0,     0,     0,     0,     0,     0,     0,\n",
      "             0,     0,     0,     0,     0,     0,     0,     0,     0,     0,\n",
      "             0,     0,     0,     0,     0,     0,     0,     0,     0,     0,\n",
      "             0,     0,     0,     0,     0,     0,     0,     0,     0,     0,\n",
      "             0,     0,     0,     0,     0,     0,     0,     0,     0,     0,\n",
      "             0,     0,     0,     0,     0,     0,     0,     0,     0,     0,\n",
      "             0,     0,     0,     0,     0,     0,     0,     0,     0,     0,\n",
      "             0,     0,     0,     0,     0,     0,     0,     0,     0,     0,\n",
      "             0,     0,     0,     0,     0,     0,     0,     0,     0,     0,\n",
      "             0,     0,     0,     0,     0,     0,     0,     0,     0,     0,\n",
      "             0,     0,     0,     0,     0,     0,     0,     0,     0,     0,\n",
      "             0,     0,     0,     0,     0,     0,     0,     0,     0,     0,\n",
      "             0,     0,     0,     0,     0,     0,     0,     0,     0,     0,\n",
      "             0,     0,     0,     0,     0,     0,     0,     0,     0,     0,\n",
      "             0,     0]])\n"
     ]
    }
   ],
   "source": [
    "print(format_text(listing_list[9]))\n",
    "\n",
    "print(preprocess_text(format_text(listing_list[9])))"
   ]
  },
  {
   "cell_type": "markdown",
   "id": "591a7e94",
   "metadata": {},
   "source": [
    "Now as we prepared the functions for processing the text, let's handle the database tasks"
   ]
  },
  {
   "cell_type": "code",
   "execution_count": 8,
   "id": "1270a587",
   "metadata": {},
   "outputs": [
    {
     "name": "stdout",
     "output_type": "stream",
     "text": [
      "512\n"
     ]
    }
   ],
   "source": [
    "print(len(preprocess_text(format_text(listing_list[9]))[0]))"
   ]
  },
  {
   "cell_type": "code",
   "execution_count": 9,
   "id": "6fbb57b2",
   "metadata": {},
   "outputs": [
    {
     "data": {
      "text/plain": [
       "DistilBertTokenizerFast(name_or_path='distilbert-base-uncased', vocab_size=30522, model_max_length=512, is_fast=True, padding_side='right', truncation_side='right', special_tokens={'unk_token': '[UNK]', 'sep_token': '[SEP]', 'pad_token': '[PAD]', 'cls_token': '[CLS]', 'mask_token': '[MASK]'}, clean_up_tokenization_spaces=True)"
      ]
     },
     "execution_count": 9,
     "metadata": {},
     "output_type": "execute_result"
    }
   ],
   "source": [
    "tokenizer"
   ]
  },
  {
   "cell_type": "code",
   "execution_count": 10,
   "id": "d5feeaa6",
   "metadata": {},
   "outputs": [],
   "source": [
    "import lancedb\n",
    "from lancedb.pydantic import vector, LanceModel\n",
    "\n",
    "class RealStateListings(LanceModel):\n",
    "    # embeddings are required, we set the length to the max length of the tokenizer, as we made the padding to max length to\n",
    "    # handle different strings sizes     \n",
    "    embeddings: vector(tokenizer.model_max_length)\n",
    "    \n",
    "    # we store the formatted text\n",
    "    formatted_text: str\n",
    "        \n",
    "#     we store the rest of listing details incase we need them later\n",
    "#     neighborhood: str\n",
    "#     price: str\n",
    "#     bedrooms: str \n",
    "#     bathrooms: str \n",
    "#     house_size: str \n",
    "#     description: str \n",
    "#     neighborhood_description: str\n",
    "\n",
    "db = lancedb.connect(\"~/lancedb\")\n",
    "table_name = 'realstate_listings'\n",
    "db.drop_table(table_name, ignore_missing=True)\n",
    "table = db.create_table(table_name, schema=RealStateListings)"
   ]
  },
  {
   "cell_type": "code",
   "execution_count": 11,
   "id": "a68c564a",
   "metadata": {},
   "outputs": [],
   "source": [
    "# prepare the data\n",
    "data  = []\n",
    "\n",
    "for item in listing_list:\n",
    "    item_dict = item\n",
    "    item_str = format_text(item_dict)\n",
    "    item_embedding = preprocess_text(item_str)[0]\n",
    "    \n",
    "    data.append(\n",
    "        RealStateListings(\n",
    "            embeddings = item_embedding,\n",
    "            formatted_text = item_str\n",
    "        )\n",
    "    )"
   ]
  },
  {
   "cell_type": "code",
   "execution_count": 12,
   "id": "81eecab1",
   "metadata": {},
   "outputs": [
    {
     "name": "stdout",
     "output_type": "stream",
     "text": [
      "embeddings=FixedSizeList(dim=512) formatted_text='Neighborhood: Lakeside Retreat. \\nPrice: $800,000. \\nBedrooms: 3. \\nBathrooms: 2.5. \\nHouse Size: 2,100 sqft. \\n    \\nDescription: Experience lakefront living in this 3-bedroom, 2.5-bathroom home in the serene Lakeside Retreat neighborhood. The light-filled living spaces and stunning lake views create a tranquil escape. The updated kitchen features granite countertops and stainless steel appliances, ideal for entertaining. Relax in the master suite with a private balcony overlooking the water or unwind on the spacious deck by the lake.\\n    \\nNeighborhood Lakeside Retreat offers a peaceful setting with private lake access, walking paths, and community amenities. Residents can enjoy boating, fishing, and lakeside picnics surrounded by natural beauty. With a welcoming atmosphere and close-knit community, Lakeside Retreat is the perfect place to enjoy lakefront living.\\n    '\n"
     ]
    }
   ],
   "source": [
    "# print one data item\n",
    "print(data[9])"
   ]
  },
  {
   "cell_type": "code",
   "execution_count": 13,
   "id": "5771e516",
   "metadata": {},
   "outputs": [],
   "source": [
    "# add the data to the table\n",
    "table.add([dict(d) for d in data])"
   ]
  },
  {
   "cell_type": "code",
   "execution_count": 14,
   "id": "0f29601b",
   "metadata": {},
   "outputs": [
    {
     "data": {
      "text/html": [
       "<div>\n",
       "<style scoped>\n",
       "    .dataframe tbody tr th:only-of-type {\n",
       "        vertical-align: middle;\n",
       "    }\n",
       "\n",
       "    .dataframe tbody tr th {\n",
       "        vertical-align: top;\n",
       "    }\n",
       "\n",
       "    .dataframe thead th {\n",
       "        text-align: right;\n",
       "    }\n",
       "</style>\n",
       "<table border=\"1\" class=\"dataframe\">\n",
       "  <thead>\n",
       "    <tr style=\"text-align: right;\">\n",
       "      <th></th>\n",
       "      <th>embeddings</th>\n",
       "      <th>formatted_text</th>\n",
       "    </tr>\n",
       "  </thead>\n",
       "  <tbody>\n",
       "    <tr>\n",
       "      <th>0</th>\n",
       "      <td>[101.0, 5101.0, 1024.0, 11940.0, 3636.0, 1012....</td>\n",
       "      <td>Neighborhood: Willow Creek. \\nPrice: $900,000....</td>\n",
       "    </tr>\n",
       "    <tr>\n",
       "      <th>1</th>\n",
       "      <td>[101.0, 5101.0, 1024.0, 10434.0, 4564.0, 1012....</td>\n",
       "      <td>Neighborhood: Sunset Hills. \\nPrice: $750,000....</td>\n",
       "    </tr>\n",
       "    <tr>\n",
       "      <th>2</th>\n",
       "      <td>[101.0, 5101.0, 1024.0, 7222.0, 25313.0, 8707....</td>\n",
       "      <td>Neighborhood: Pinecrest Estates. \\nPrice: $1,2...</td>\n",
       "    </tr>\n",
       "    <tr>\n",
       "      <th>3</th>\n",
       "      <td>[101.0, 5101.0, 1024.0, 11035.0, 7676.0, 1012....</td>\n",
       "      <td>Neighborhood: Maple Grove. \\nPrice: $600,000. ...</td>\n",
       "    </tr>\n",
       "    <tr>\n",
       "      <th>4</th>\n",
       "      <td>[101.0, 5101.0, 1024.0, 4153.0, 3193.0, 7535.0...</td>\n",
       "      <td>Neighborhood: Ocean View Heights. \\nPrice: $1,...</td>\n",
       "    </tr>\n",
       "    <tr>\n",
       "      <th>5</th>\n",
       "      <td>[101.0, 5101.0, 1024.0, 2314.0, 12792.0, 4899....</td>\n",
       "      <td>Neighborhood: Riverfront Landing. \\nPrice: $85...</td>\n",
       "    </tr>\n",
       "    <tr>\n",
       "      <th>6</th>\n",
       "      <td>[101.0, 5101.0, 1024.0, 3137.0, 3193.0, 8707.0...</td>\n",
       "      <td>Neighborhood: Mountain View Estates. \\nPrice: ...</td>\n",
       "    </tr>\n",
       "    <tr>\n",
       "      <th>7</th>\n",
       "      <td>[101.0, 5101.0, 1024.0, 6496.0, 26119.0, 1012....</td>\n",
       "      <td>Neighborhood: Harbor Pointe. \\nPrice: $700,000...</td>\n",
       "    </tr>\n",
       "    <tr>\n",
       "      <th>8</th>\n",
       "      <td>[101.0, 5101.0, 1024.0, 3585.0, 4564.0, 1012.0...</td>\n",
       "      <td>Neighborhood: Golden Hills. \\nPrice: $950,000....</td>\n",
       "    </tr>\n",
       "    <tr>\n",
       "      <th>9</th>\n",
       "      <td>[101.0, 5101.0, 1024.0, 28701.0, 7822.0, 1012....</td>\n",
       "      <td>Neighborhood: Lakeside Retreat. \\nPrice: $800,...</td>\n",
       "    </tr>\n",
       "  </tbody>\n",
       "</table>\n",
       "</div>"
      ],
      "text/plain": [
       "                                          embeddings  \\\n",
       "0  [101.0, 5101.0, 1024.0, 11940.0, 3636.0, 1012....   \n",
       "1  [101.0, 5101.0, 1024.0, 10434.0, 4564.0, 1012....   \n",
       "2  [101.0, 5101.0, 1024.0, 7222.0, 25313.0, 8707....   \n",
       "3  [101.0, 5101.0, 1024.0, 11035.0, 7676.0, 1012....   \n",
       "4  [101.0, 5101.0, 1024.0, 4153.0, 3193.0, 7535.0...   \n",
       "5  [101.0, 5101.0, 1024.0, 2314.0, 12792.0, 4899....   \n",
       "6  [101.0, 5101.0, 1024.0, 3137.0, 3193.0, 8707.0...   \n",
       "7  [101.0, 5101.0, 1024.0, 6496.0, 26119.0, 1012....   \n",
       "8  [101.0, 5101.0, 1024.0, 3585.0, 4564.0, 1012.0...   \n",
       "9  [101.0, 5101.0, 1024.0, 28701.0, 7822.0, 1012....   \n",
       "\n",
       "                                      formatted_text  \n",
       "0  Neighborhood: Willow Creek. \\nPrice: $900,000....  \n",
       "1  Neighborhood: Sunset Hills. \\nPrice: $750,000....  \n",
       "2  Neighborhood: Pinecrest Estates. \\nPrice: $1,2...  \n",
       "3  Neighborhood: Maple Grove. \\nPrice: $600,000. ...  \n",
       "4  Neighborhood: Ocean View Heights. \\nPrice: $1,...  \n",
       "5  Neighborhood: Riverfront Landing. \\nPrice: $85...  \n",
       "6  Neighborhood: Mountain View Estates. \\nPrice: ...  \n",
       "7  Neighborhood: Harbor Pointe. \\nPrice: $700,000...  \n",
       "8  Neighborhood: Golden Hills. \\nPrice: $950,000....  \n",
       "9  Neighborhood: Lakeside Retreat. \\nPrice: $800,...  "
      ]
     },
     "execution_count": 14,
     "metadata": {},
     "output_type": "execute_result"
    }
   ],
   "source": [
    "# display the table\n",
    "table.to_pandas()"
   ]
  },
  {
   "cell_type": "code",
   "execution_count": 15,
   "id": "67372fff",
   "metadata": {},
   "outputs": [
    {
     "data": {
      "text/html": [
       "<div>\n",
       "<style scoped>\n",
       "    .dataframe tbody tr th:only-of-type {\n",
       "        vertical-align: middle;\n",
       "    }\n",
       "\n",
       "    .dataframe tbody tr th {\n",
       "        vertical-align: top;\n",
       "    }\n",
       "\n",
       "    .dataframe thead th {\n",
       "        text-align: right;\n",
       "    }\n",
       "</style>\n",
       "<table border=\"1\" class=\"dataframe\">\n",
       "  <thead>\n",
       "    <tr style=\"text-align: right;\">\n",
       "      <th></th>\n",
       "      <th>embeddings</th>\n",
       "      <th>formatted_text</th>\n",
       "      <th>_distance</th>\n",
       "    </tr>\n",
       "  </thead>\n",
       "  <tbody>\n",
       "    <tr>\n",
       "      <th>0</th>\n",
       "      <td>[101.0, 5101.0, 1024.0, 2314.0, 12792.0, 4899....</td>\n",
       "      <td>Neighborhood: Riverfront Landing. \\nPrice: $85...</td>\n",
       "      <td>0.816686</td>\n",
       "    </tr>\n",
       "    <tr>\n",
       "      <th>1</th>\n",
       "      <td>[101.0, 5101.0, 1024.0, 6496.0, 26119.0, 1012....</td>\n",
       "      <td>Neighborhood: Harbor Pointe. \\nPrice: $700,000...</td>\n",
       "      <td>0.838808</td>\n",
       "    </tr>\n",
       "  </tbody>\n",
       "</table>\n",
       "</div>"
      ],
      "text/plain": [
       "                                          embeddings  \\\n",
       "0  [101.0, 5101.0, 1024.0, 2314.0, 12792.0, 4899....   \n",
       "1  [101.0, 5101.0, 1024.0, 6496.0, 26119.0, 1012....   \n",
       "\n",
       "                                      formatted_text  _distance  \n",
       "0  Neighborhood: Riverfront Landing. \\nPrice: $85...   0.816686  \n",
       "1  Neighborhood: Harbor Pointe. \\nPrice: $700,000...   0.838808  "
      ]
     },
     "execution_count": 15,
     "metadata": {},
     "output_type": "execute_result"
    }
   ],
   "source": [
    "# experimenting searching through the table, note that we tokenize the search first (user input for instance), then search\n",
    "table.search(preprocess_text(\"A 4-bedroom and 3-bathroom coastal home in Harbor Point neighborhood\")[0].tolist()).metric('cosine').limit(2).to_pandas()"
   ]
  },
  {
   "cell_type": "markdown",
   "id": "d6fc112f",
   "metadata": {},
   "source": [
    "Now we implemented a database with text tokenizing and tested the search mechanism."
   ]
  },
  {
   "cell_type": "markdown",
   "id": "67e1fe5e",
   "metadata": {},
   "source": [
    "### Step 4, 5, and 6: \n",
    "- Building the User Preference Interface \n",
    "- Searching Based on Preferences\n",
    "- Deliverables and Testing"
   ]
  },
  {
   "cell_type": "code",
   "execution_count": 69,
   "id": "76c153c5",
   "metadata": {},
   "outputs": [
    {
     "name": "stdout",
     "output_type": "stream",
     "text": [
      "\n",
      "\n",
      "\u001b[1m> Entering new ConversationChain chain...\u001b[0m\n",
      "Prompt after formatting:\n",
      "\u001b[32;1m\u001b[1;3mThe following is a friendly conversation between a human and an AI Real State agent Recommender. \n",
      "The AI is follows human instructions and provides a housing listing for a human based on the questions and human's answers. \n",
      "\n",
      "Summary of Recommendations:\n",
      "content='The human answered 4 housing questions). The closest listing found in the database based on the answers was Neighborhood: Sunset Hills. Price: $750,000. Bedrooms: 3. Bathrooms: 2. House Size: 1,800 sqft.     Description: Indulge in the charm of Sunset Hills with this beautifully renovated 3-bedroom, 2-bathroom home. The open floor plan and natural light create a warm and inviting atmosphere. The gourmet kitchen features quartz countertops and stainless steel appliances, perfect for culinary enthusiasts. Relax in the serene backyard oasis with a covered patio and mature landscaping. Experience modern living in the heart of Sunset Hills.    Neighborhood Sunset Hills offers a relaxed and friendly environment with local cafes, boutique shops, and community events. Explore the scenic Sunset Park or take a short drive to the beach for a day of sun and surf. With a strong sense of community and convenient access to amenities, Sunset Hills is the ideal place to call home.    .'\n",
      "Personal Questions and Answers:\n",
      "Human: You are AI that will recommend user a real state listing based on their answers to personal questions. Ask user 4 questions\n",
      "AI: How big do you want your house to be?What are 3 most important things for you in choosing this property?\n",
      "Human: A comfortable three-bedroom house with a spacious kitchen and a cozy living room.\n",
      "AI: Which amenities would you like?\n",
      "Human: A quiet neighborhood, good local schools, and convenient shopping options.\n",
      "AI: Which transportation options are important to you?\n",
      "Human: A backyard for gardening, a two-car garage, and a modern, energy-efficient heating system.\n",
      "AI: How urban do you want your neighborhood to be?\n",
      "Human: Easy access to a reliable bus line, proximity to a major highway, and bike-friendly roads.\n",
      "Human: \n",
      "    Use the closest listing to augment the description, tailoring it to resonate with the buyer’s specific preferences. \n",
      "    This involves subtly emphasizing aspects of the property that align with what the buyer is looking for. \n",
      "    Ensure that the augmentation process enhances the appeal of the listing without altering factual information.\n",
      "\n",
      "AI:\u001b[0m\n",
      "\n",
      "\u001b[1m> Finished chain.\u001b[0m\n"
     ]
    },
    {
     "data": {
      "text/plain": [
       "'Indulge in the charm of Sunset Hills with this beautifully renovated 3-bedroom, 2-bathroom home. The open floor plan and natural light create a warm and inviting atmosphere, perfect for relaxing with your family. The gourmet kitchen features quartz countertops and stainless steel appliances, ideal for preparing delicious meals and entertaining guests. Enjoy the serene backyard oasis with a covered patio, perfect for gardening and outdoor gatherings. With a two-car garage and modern, energy-efficient heating system, this home offers both convenience and sustainability. Experience modern living in the heart of Sunset Hills, a quiet neighborhood with good local schools and convenient shopping options. Easy access to a reliable bus line and proximity to a major highway make commuting a breeze, while bike-friendly roads encourage a healthy and active lifestyle. Sunset Hills truly offers the ideal place to call home.'"
      ]
     },
     "execution_count": 69,
     "metadata": {},
     "output_type": "execute_result"
    }
   ],
   "source": [
    "# Given\n",
    "questions = [   \n",
    "    \"How big do you want your house to be?\" \n",
    "    \"What are 3 most important things for you in choosing this property?\", \n",
    "    \"Which amenities would you like?\", \n",
    "    \"Which transportation options are important to you?\",\n",
    "    \"How urban do you want your neighborhood to be?\"]\n",
    "\n",
    "answers = [\n",
    "    \"A comfortable three-bedroom house with a spacious kitchen and a cozy living room.\",\n",
    "    \"A quiet neighborhood, good local schools, and convenient shopping options.\",\n",
    "    \"A backyard for gardening, a two-car garage, and a modern, energy-efficient heating system.\",\n",
    "    \"Easy access to a reliable bus line, proximity to a major highway, and bike-friendly roads.\",\n",
    "    \"A balance between suburban tranquility and access to urban amenities like restaurants and theaters.\"]\n",
    "\n",
    "# as the answers are given, we can use them directly in searching through the database\n",
    "full_answer = \" \".join(answers)\n",
    "full_answer_tokenized = preprocess_text(full_answer)[0].tolist()\n",
    "\n",
    "# closest item in the database\n",
    "closest_item = table.search(full_answer_tokenized).metric('cosine').limit(1).to_list()[0]['formatted_text'].replace('\\n', '')\n",
    "\n",
    "# llm\n",
    "model_name = \"gpt-3.5-turbo\"\n",
    "temperature = 0.0\n",
    "llm = OpenAI(model_name=model_name, temperature=temperature, max_tokens = 1000)\n",
    "\n",
    "# formatting the messages\n",
    "history = ChatMessageHistory()\n",
    "history.add_user_message(f\"\"\"You are AI that will recommend user a real state listing based on their answers to personal questions. Ask user {len(questions)} questions\"\"\")\n",
    "for i in range(len(questions)):\n",
    "    history.add_ai_message(questions[i])\n",
    "    history.add_user_message(answers[i])\n",
    "    \n",
    "summary_memory = ConversationSummaryMemory(\n",
    "    llm=llm,\n",
    "    memory_key=\"recommendation_summary\", \n",
    "    input_key=\"input\",\n",
    "    buffer=f\"The human answered ({len(questions)} housing questions). The closest listing found in the database based on the answers was {closest_item}.\",\n",
    "    return_messages=True)\n",
    "\n",
    "class MementoBufferMemory(ConversationBufferMemory):\n",
    "    def save_context(self, inputs: Dict[str, Any], outputs: Dict[str, str]) -> None:\n",
    "        input_str, output_str = self._get_input_output(inputs, outputs)\n",
    "        self.chat_memory.add_ai_message(output_str)\n",
    "    \n",
    "conversational_memory = MementoBufferMemory(\n",
    "    chat_memory=history,\n",
    "    memory_key=\"questions_and_answers\", \n",
    "    input_key=\"input\"\n",
    ")\n",
    "\n",
    "# Combined\n",
    "memory = CombinedMemory(memories=[conversational_memory, summary_memory])\n",
    "\n",
    "RECOMMENDER_TEMPLATE = \"\"\"The following is a friendly conversation between a human and an AI Real State agent Recommender. \n",
    "The AI is follows human instructions and provides a housing listing for a human based on the questions and human's answers. \n",
    "\n",
    "Summary of Recommendations:\n",
    "{recommendation_summary[0]}\n",
    "Personal Questions and Answers:\n",
    "{questions_and_answers}\n",
    "Human: {input}\n",
    "AI:\"\"\"\n",
    "PROMPT = PromptTemplate(\n",
    "    input_variables=[\"recommendation_summary\", \"input\", \"questions_and_answers\"],\n",
    "    template=RECOMMENDER_TEMPLATE\n",
    ")\n",
    "recommender = ConversationChain(llm=llm, verbose=True, memory=memory, prompt=PROMPT)\n",
    "\n",
    "plot_rating_instructions = f\"\"\"\n",
    "    Use the closest listing to augment the description, tailoring it to resonate with the buyer’s specific preferences. \n",
    "    This involves subtly emphasizing aspects of the property that align with what the buyer is looking for. \n",
    "    Ensure that the augmentation process enhances the appeal of the listing without altering factual information.\n",
    "\"\"\"\n",
    "\n",
    "recommender.predict(input = plot_rating_instructions)"
   ]
  }
 ],
 "metadata": {
  "kernelspec": {
   "display_name": "Python 3 (ipykernel)",
   "language": "python",
   "name": "python3"
  },
  "language_info": {
   "codemirror_mode": {
    "name": "ipython",
    "version": 3
   },
   "file_extension": ".py",
   "mimetype": "text/x-python",
   "name": "python",
   "nbconvert_exporter": "python",
   "pygments_lexer": "ipython3",
   "version": "3.10.11"
  }
 },
 "nbformat": 4,
 "nbformat_minor": 5
}
